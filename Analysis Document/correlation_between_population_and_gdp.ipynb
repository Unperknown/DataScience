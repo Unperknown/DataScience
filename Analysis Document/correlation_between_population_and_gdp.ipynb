{
 "cells": [
  {
   "cell_type": "markdown",
   "metadata": {
    "_cell_guid": "b1076dfc-b9ad-4769-8c92-a6c4dae69d19",
    "_uuid": "8f2839f25d086af736a60e9eeb907d3b93b6e0e5"
   },
   "source": [
    "## 실전 : 세계 여러 나라의 인구와 GDP의 상관관계 파악하기\n",
    "\n",
    "이 세션에서는 세계 여러 나라의 각종 통계 자료를 바탕으로 자살률과 GDP의 상관관계를 파악하여 자살률에 따라 GDP가 어떻게 달라지는지 파악할 것이다. 이때, 자살률을 바탕으로 GDP를 분석하므로 이는 전형적인 회귀 문제이다. 데이터셋이 300개 이하이므로 배치 학습으로도 충분히 훈련이 가능하다. 모델은 선형 회귀로 구성할 것이며 이를 통해 각 나라의 한 사람 당의 GDP가 인구에 어떤 영향을 받는지 조사할 것이다."
   ]
  },
  {
   "cell_type": "markdown",
   "metadata": {
    "_uuid": "0ae22b3572478261ada7a03dc62b27d35616557e"
   },
   "source": [
    "### 라이브러리"
   ]
  },
  {
   "cell_type": "code",
   "execution_count": 3,
   "metadata": {
    "_cell_guid": "79c7e3d0-c299-4dcb-8224-4455121ee9b0",
    "_uuid": "d629ff2d2480ee46fbb7e2d37f6b5fab8052498a",
    "collapsed": true
   },
   "outputs": [],
   "source": [
    "import numpy as np\n",
    "import matplotlib.pyplot as plt\n",
    "import pandas as pd\n",
    "from sklearn.linear_model import LinearRegression\n",
    "from sklearn.metrics import mean_squared_error\n",
    "from sklearn.preprocessing import Imputer"
   ]
  },
  {
   "cell_type": "markdown",
   "metadata": {},
   "source": [
    "## 데이터 인출 및 정제"
   ]
  },
  {
   "cell_type": "code",
   "execution_count": 4,
   "metadata": {
    "_uuid": "365e13cc0398079ab6a85fbb9888f1fa342de889",
    "collapsed": false
   },
   "outputs": [],
   "source": [
    "dataset = pd.read_csv('countries of the world.csv')\n",
    "dataset = dataset.sort_values(by=['Population'])\n",
    "\n",
    "dataset = dataset[['Population', 'GDP ($ per capita)']]\n",
    "imputer = Imputer()\n",
    "processed_dataset = imputer.fit_transform(dataset).astype(int)"
   ]
  },
  {
   "cell_type": "code",
   "execution_count": 5,
   "metadata": {
    "_uuid": "7bd09ad9189c866ec65c1ef256842aa4179ff7fc",
    "collapsed": false
   },
   "outputs": [],
   "source": [
    "x = processed_dataset[:, 0].reshape(-1, 1)\n",
    "y = processed_dataset[:, 1].reshape(-1, 1)"
   ]
  },
  {
   "cell_type": "markdown",
   "metadata": {},
   "source": [
    "## 시각화"
   ]
  },
  {
   "cell_type": "code",
   "execution_count": 12,
   "metadata": {
    "_uuid": "85c240ae415d103107d5ddc64673d04676c90477",
    "collapsed": false
   },
   "outputs": [
    {
     "data": {
      "image/png": "[encoded data removed]",
      "text/plain": [
       "<matplotlib.figure.Figure at 0x1c7531252e8>"
      ]
     },
     "metadata": {},
     "output_type": "display_data"
    }
   ],
   "source": [
    "plt.hist([(np.reshape(x, (1, -1)))[0], (np.reshape(x, (1, -1)))[0]], 227, label=['x', 'y'])\n",
    "plt.ylim(0, 40)\n",
    "plt.legend(loc='upper right')\n",
    "plt.show()"
   ]
  },
  {
   "cell_type": "markdown",
   "metadata": {
    "_uuid": "37bd8f09a19b93c05dbe5f42392108e2b8201acc"
   },
   "source": [
    "따라서, 인구가 증가할수록 한 사람 당 GDP가 감소한다는 것을 알 수 있다."
   ]
  },
  {
   "cell_type": "code",
   "execution_count": null,
   "metadata": {
    "_uuid": "9db7cfe6c24c71ce52f42f442471b535652194dd",
    "collapsed": true
   },
   "outputs": [],
   "source": []
  }
 ],
 "metadata": {
  "anaconda-cloud": {},
  "kernelspec": {
   "display_name": "Python [default]",
   "language": "python",
   "name": "python3"
  },
  "language_info": {
   "codemirror_mode": {
    "name": "ipython",
    "version": 3
   },
   "file_extension": ".py",
   "mimetype": "text/x-python",
   "name": "python",
   "nbconvert_exporter": "python",
   "pygments_lexer": "ipython3",
   "version": "3.5.2"
  }
 },
 "nbformat": 4,
 "nbformat_minor": 1
}
